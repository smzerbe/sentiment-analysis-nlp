{
 "cells": [
  {
   "cell_type": "code",
   "execution_count": 1,
   "id": "109de28a-c337-4851-8a7f-eba7e9acb133",
   "metadata": {},
   "outputs": [],
   "source": [
    "import numpy as np #imports numpy as np\n",
    "import pandas as pd #imports pandas as pd\n",
    "import matplotlib.pyplot as plt #for plotting\n",
    "import warnings \n",
    "warnings.filterwarnings('ignore') #ignores warnings \n",
    "from sklearn.model_selection import train_test_split #for making train/test splits\n",
    "import unicodedata #for normalizing/removing non ascii characters \n",
    "import re #for removing punctuations etc\n",
    "import nltk #for tokenization, stepward removal, etc\n",
    "import os #for using operating system directory\n",
    "from nltk.tokenize import word_tokenize #for tokenizing into words \n",
    "from nltk.corpus import stopwords #for finding common stopwords\n",
    "from nltk.stem import WordNetLemmatizer #transforms words into base form\n",
    "from tensorflow.keras.preprocessing.text import Tokenizer #turns text into int sequences \n",
    "from tensorflow.keras.preprocessing.sequence import pad_sequences #makes sequences the same length \n",
    "from tensorflow.keras.models import Sequential #for nn layers \n",
    "from tensorflow.keras.layers import Embedding, Dense, Dropout #for embedding vectors, dense layers, and dropout\n",
    "from tensorflow.keras.layers import LSTM, Bidirectional #long short term memory for nlp nn, and bidirectional layer\n",
    "from tensorflow.keras.callbacks import EarlyStopping #stops early if no improvment over enochs "
   ]
  },
  {
   "cell_type": "code",
   "execution_count": 2,
   "id": "3f2810c1-c7d2-4291-9e87-0748b0fa534a",
   "metadata": {},
   "outputs": [],
   "source": [
    "amazon = pd.read_csv(\"/Users/smzerbe/Documents/sentiment labelled sentences/amazon_cells_labelled.txt\", delimiter='\\t', header=None) #Loads Amazon dataset with no tab seperation or header\n",
    "imdb = pd.read_csv(\"/Users/smzerbe/Documents/sentiment labelled sentences/imdb_labelled.txt\", delimiter='\\t', header=None) #Loads IMDB dataset with no tab seperation or header\n",
    "yelp = pd.read_csv(\"/Users/smzerbe/Documents/sentiment labelled sentences/yelp_labelled.txt\", delimiter='\\t', header=None) #Loads Yelp dataset with no tab seperation or header"
   ]
  },
  {
   "cell_type": "code",
   "execution_count": 3,
   "id": "388344d1-5dc7-4437-8963-4f75768df6ac",
   "metadata": {},
   "outputs": [],
   "source": [
    "amazon.columns = imdb.columns = yelp.columns = ['review', 'label'] #names columns for 3 datasets \n",
    "df = pd.concat([amazon, imdb, yelp], ignore_index=True) #combines datasets into one dataframe"
   ]
  },
  {
   "cell_type": "code",
   "execution_count": 4,
   "id": "a1613c6c-0315-4f79-84ba-bb88fa670d6c",
   "metadata": {},
   "outputs": [
    {
     "data": {
      "text/plain": [
       "<bound method DataFrame.info of                                                  review  label  total_words  \\\n",
       "0     So there is no way for me to plug it in here i...      0           21   \n",
       "1                           Good case, Excellent value.      1            4   \n",
       "2                                Great for the jawbone.      1            4   \n",
       "3     Tied to charger for conversations lasting more...      0           11   \n",
       "4                                     The mic is great.      1            4   \n",
       "...                                                 ...    ...          ...   \n",
       "2743  I think food should have flavor and texture an...      0           12   \n",
       "2744                           Appetite instantly gone.      0            3   \n",
       "2745  Overall I was not impressed and would not go b...      0           10   \n",
       "2746  The whole experience was underwhelming, and I ...      0           16   \n",
       "2747  Then, as if I hadn't wasted enough of my life ...      0           28   \n",
       "\n",
       "      total_chars  \n",
       "0              82  \n",
       "1              27  \n",
       "2              22  \n",
       "3              79  \n",
       "4              17  \n",
       "...           ...  \n",
       "2743           66  \n",
       "2744           24  \n",
       "2745           50  \n",
       "2746           91  \n",
       "2747          134  \n",
       "\n",
       "[2748 rows x 4 columns]>"
      ]
     },
     "execution_count": 4,
     "metadata": {},
     "output_type": "execute_result"
    }
   ],
   "source": [
    "df['total_words'] = [len(x.split()) for x in df['review'].tolist()] #makes a column counting total words for each row\n",
    "df['total_chars'] = df['review'].apply(len) #makes a column counting total characters for each row\n",
    "df.info #give summary info on df"
   ]
  },
  {
   "cell_type": "code",
   "execution_count": 5,
   "id": "262a1647-8897-4a71-bfdb-039123ed1092",
   "metadata": {},
   "outputs": [
    {
     "data": {
      "text/html": [
       "<div>\n",
       "<style scoped>\n",
       "    .dataframe tbody tr th:only-of-type {\n",
       "        vertical-align: middle;\n",
       "    }\n",
       "\n",
       "    .dataframe tbody tr th {\n",
       "        vertical-align: top;\n",
       "    }\n",
       "\n",
       "    .dataframe thead th {\n",
       "        text-align: right;\n",
       "    }\n",
       "</style>\n",
       "<table border=\"1\" class=\"dataframe\">\n",
       "  <thead>\n",
       "    <tr style=\"text-align: right;\">\n",
       "      <th></th>\n",
       "      <th>review</th>\n",
       "      <th>label</th>\n",
       "      <th>total_words</th>\n",
       "      <th>total_chars</th>\n",
       "    </tr>\n",
       "  </thead>\n",
       "  <tbody>\n",
       "    <tr>\n",
       "      <th>0</th>\n",
       "      <td>So there is no way for me to plug it in here i...</td>\n",
       "      <td>0</td>\n",
       "      <td>21</td>\n",
       "      <td>82</td>\n",
       "    </tr>\n",
       "    <tr>\n",
       "      <th>1</th>\n",
       "      <td>Good case, Excellent value.</td>\n",
       "      <td>1</td>\n",
       "      <td>4</td>\n",
       "      <td>27</td>\n",
       "    </tr>\n",
       "    <tr>\n",
       "      <th>2</th>\n",
       "      <td>Great for the jawbone.</td>\n",
       "      <td>1</td>\n",
       "      <td>4</td>\n",
       "      <td>22</td>\n",
       "    </tr>\n",
       "    <tr>\n",
       "      <th>3</th>\n",
       "      <td>Tied to charger for conversations lasting more...</td>\n",
       "      <td>0</td>\n",
       "      <td>11</td>\n",
       "      <td>79</td>\n",
       "    </tr>\n",
       "    <tr>\n",
       "      <th>4</th>\n",
       "      <td>The mic is great.</td>\n",
       "      <td>1</td>\n",
       "      <td>4</td>\n",
       "      <td>17</td>\n",
       "    </tr>\n",
       "    <tr>\n",
       "      <th>5</th>\n",
       "      <td>I have to jiggle the plug to get it to line up...</td>\n",
       "      <td>0</td>\n",
       "      <td>17</td>\n",
       "      <td>74</td>\n",
       "    </tr>\n",
       "    <tr>\n",
       "      <th>6</th>\n",
       "      <td>If you have several dozen or several hundred c...</td>\n",
       "      <td>0</td>\n",
       "      <td>21</td>\n",
       "      <td>111</td>\n",
       "    </tr>\n",
       "    <tr>\n",
       "      <th>7</th>\n",
       "      <td>If you are Razr owner...you must have this!</td>\n",
       "      <td>1</td>\n",
       "      <td>8</td>\n",
       "      <td>43</td>\n",
       "    </tr>\n",
       "    <tr>\n",
       "      <th>8</th>\n",
       "      <td>Needless to say, I wasted my money.</td>\n",
       "      <td>0</td>\n",
       "      <td>7</td>\n",
       "      <td>35</td>\n",
       "    </tr>\n",
       "    <tr>\n",
       "      <th>9</th>\n",
       "      <td>What a waste of money and time!.</td>\n",
       "      <td>0</td>\n",
       "      <td>7</td>\n",
       "      <td>32</td>\n",
       "    </tr>\n",
       "  </tbody>\n",
       "</table>\n",
       "</div>"
      ],
      "text/plain": [
       "                                              review  label  total_words  \\\n",
       "0  So there is no way for me to plug it in here i...      0           21   \n",
       "1                        Good case, Excellent value.      1            4   \n",
       "2                             Great for the jawbone.      1            4   \n",
       "3  Tied to charger for conversations lasting more...      0           11   \n",
       "4                                  The mic is great.      1            4   \n",
       "5  I have to jiggle the plug to get it to line up...      0           17   \n",
       "6  If you have several dozen or several hundred c...      0           21   \n",
       "7        If you are Razr owner...you must have this!      1            8   \n",
       "8                Needless to say, I wasted my money.      0            7   \n",
       "9                   What a waste of money and time!.      0            7   \n",
       "\n",
       "   total_chars  \n",
       "0           82  \n",
       "1           27  \n",
       "2           22  \n",
       "3           79  \n",
       "4           17  \n",
       "5           74  \n",
       "6          111  \n",
       "7           43  \n",
       "8           35  \n",
       "9           32  "
      ]
     },
     "execution_count": 5,
     "metadata": {},
     "output_type": "execute_result"
    }
   ],
   "source": [
    "df.head(10) #shows first 10 rows of df"
   ]
  },
  {
   "cell_type": "code",
   "execution_count": 6,
   "id": "9ad6cab3-a577-4e4d-ad8e-feabeb36efb8",
   "metadata": {},
   "outputs": [
    {
     "name": "stdout",
     "output_type": "stream",
     "text": [
      "label\n",
      "1    1386\n",
      "0    1362\n",
      "Name: count, dtype: int64\n"
     ]
    }
   ],
   "source": [
    "print(df['label'].value_counts()) #gives total count of positive (1) /negative (0) reviews "
   ]
  },
  {
   "cell_type": "code",
   "execution_count": 7,
   "id": "27e75730-a6c2-47e3-9fa3-0e6ed002f2c9",
   "metadata": {},
   "outputs": [
    {
     "name": "stdout",
     "output_type": "stream",
     "text": [
      "                                                 review  label  total_words  \\\n",
      "1018  It's practically perfect in all of them  a tr...      1           17   \n",
      "1019   The structure of this film is easily the most...      0          865   \n",
      "1117                The script is",
      "was there a script?        0            7   \n",
      "1121        I'll even say it again  this is torture.        0            9   \n",
      "1226  This show is made for Americans - it is too st...      0           21   \n",
      "1271  A cheap and cheerless heist movie with poor ch...      0           45   \n",
      "1297  And I forgot: The Casting here i superb, with ...      1           33   \n",
      "1319  The script is bad, very bad  it contains both...      0           24   \n",
      "1359  Let's start with all the problemsthe acting, ...      0           16   \n",
      "1562  Technically, the film is well made with impres...      1           35   \n",
      "1569  I am so tired of clichés that is just lazy wri...      0           19   \n",
      "1646   With great sound effects, and impressive spec...      1          797   \n",
      "1715  Definitely worth seeing",
      " it's the sort of thou...      1           20   \n",
      "1898  My fiancé and I came in the middle of the day ...      1           19   \n",
      "2346  I really enjoyed Crema Café before they expand...      1           17   \n",
      "2571         The crêpe was delicate and thin and moist.      1            8   \n",
      "2663  The only thing I wasn't too crazy about was th...      0           17   \n",
      "\n",
      "      total_chars  \n",
      "1018           94  \n",
      "1019         4778  \n",
      "1117           35  \n",
      "1121           43  \n",
      "1226          111  \n",
      "1271          265  \n",
      "1297          177  \n",
      "1319          127  \n",
      "1359          103  \n",
      "1562          228  \n",
      "1569           91  \n",
      "1646         4487  \n",
      "1715          128  \n",
      "1898           88  \n",
      "2346           98  \n",
      "2571           42  \n",
      "2663           86  \n"
     ]
    }
   ],
   "source": [
    "non_ascii = df[df['review'].apply(lambda x: bool(re.search(r'[^\\x00-\\x7F]', x)))] #finds rows with non ascii characters\n",
    "print(non_ascii) #shows rows with non ascii characters "
   ]
  },
  {
   "cell_type": "code",
   "execution_count": 8,
   "id": "48f95a45-abff-4f58-839e-c055975f7178",
   "metadata": {},
   "outputs": [],
   "source": [
    "df['review'] = df['review'].apply(lambda x: unicodedata.normalize('NFKD', x).encode('ascii', 'ignore').decode('utf-8')) #normalizes text with non ascii characters "
   ]
  },
  {
   "cell_type": "code",
   "execution_count": 9,
   "id": "b487e543-f8f7-468a-ae24-05fc381cf188",
   "metadata": {},
   "outputs": [
    {
     "name": "stdout",
     "output_type": "stream",
     "text": [
      "Empty DataFrame\n",
      "Columns: [review, label, total_words, total_chars]\n",
      "Index: []\n"
     ]
    }
   ],
   "source": [
    "non_ascii = df[df['review'].apply(lambda x: bool(re.search(r'[^\\x00-\\x7F]', x)))] #checks for rows with non ascii characters post normalization\n",
    "print(non_ascii) #shows rows with non ascii characters post normalization "
   ]
  },
  {
   "cell_type": "code",
   "execution_count": 10,
   "id": "c7293654-d169-4fc2-87c6-9640e29abbed",
   "metadata": {},
   "outputs": [
    {
     "name": "stdout",
     "output_type": "stream",
     "text": [
      "Data shape: (2748, 4)\n",
      "Missing values:\n",
      " review         0\n",
      "label          0\n",
      "total_words    0\n",
      "total_chars    0\n",
      "dtype: int64\n"
     ]
    }
   ],
   "source": [
    "print(\"Data shape:\", df.shape) #shows number of rows and columns in df\n",
    "print(\"Missing values:\\n\", df.isnull().sum()) #shows null values in columns\n",
    "df.dropna(inplace=True) #drops any null values "
   ]
  },
  {
   "cell_type": "code",
   "execution_count": 11,
   "id": "15e7154b-0a79-409b-8fdf-34b9da5ba96c",
   "metadata": {},
   "outputs": [
    {
     "data": {
      "text/html": [
       "<div>\n",
       "<style scoped>\n",
       "    .dataframe tbody tr th:only-of-type {\n",
       "        vertical-align: middle;\n",
       "    }\n",
       "\n",
       "    .dataframe tbody tr th {\n",
       "        vertical-align: top;\n",
       "    }\n",
       "\n",
       "    .dataframe thead th {\n",
       "        text-align: right;\n",
       "    }\n",
       "</style>\n",
       "<table border=\"1\" class=\"dataframe\">\n",
       "  <thead>\n",
       "    <tr style=\"text-align: right;\">\n",
       "      <th></th>\n",
       "      <th>review</th>\n",
       "      <th>label</th>\n",
       "      <th>total_words</th>\n",
       "      <th>total_chars</th>\n",
       "    </tr>\n",
       "  </thead>\n",
       "  <tbody>\n",
       "    <tr>\n",
       "      <th>0</th>\n",
       "      <td>so there is no way for me to plug it in here i...</td>\n",
       "      <td>0</td>\n",
       "      <td>21</td>\n",
       "      <td>82</td>\n",
       "    </tr>\n",
       "    <tr>\n",
       "      <th>1</th>\n",
       "      <td>good case, excellent value.</td>\n",
       "      <td>1</td>\n",
       "      <td>4</td>\n",
       "      <td>27</td>\n",
       "    </tr>\n",
       "    <tr>\n",
       "      <th>2</th>\n",
       "      <td>great for the jawbone.</td>\n",
       "      <td>1</td>\n",
       "      <td>4</td>\n",
       "      <td>22</td>\n",
       "    </tr>\n",
       "    <tr>\n",
       "      <th>3</th>\n",
       "      <td>tied to charger for conversations lasting more...</td>\n",
       "      <td>0</td>\n",
       "      <td>11</td>\n",
       "      <td>79</td>\n",
       "    </tr>\n",
       "    <tr>\n",
       "      <th>4</th>\n",
       "      <td>the mic is great.</td>\n",
       "      <td>1</td>\n",
       "      <td>4</td>\n",
       "      <td>17</td>\n",
       "    </tr>\n",
       "    <tr>\n",
       "      <th>5</th>\n",
       "      <td>i have to jiggle the plug to get it to line up...</td>\n",
       "      <td>0</td>\n",
       "      <td>17</td>\n",
       "      <td>74</td>\n",
       "    </tr>\n",
       "    <tr>\n",
       "      <th>6</th>\n",
       "      <td>if you have several dozen or several hundred c...</td>\n",
       "      <td>0</td>\n",
       "      <td>21</td>\n",
       "      <td>111</td>\n",
       "    </tr>\n",
       "    <tr>\n",
       "      <th>7</th>\n",
       "      <td>if you are razr owner...you must have this!</td>\n",
       "      <td>1</td>\n",
       "      <td>8</td>\n",
       "      <td>43</td>\n",
       "    </tr>\n",
       "    <tr>\n",
       "      <th>8</th>\n",
       "      <td>needless to say, i wasted my money.</td>\n",
       "      <td>0</td>\n",
       "      <td>7</td>\n",
       "      <td>35</td>\n",
       "    </tr>\n",
       "    <tr>\n",
       "      <th>9</th>\n",
       "      <td>what a waste of money and time!.</td>\n",
       "      <td>0</td>\n",
       "      <td>7</td>\n",
       "      <td>32</td>\n",
       "    </tr>\n",
       "  </tbody>\n",
       "</table>\n",
       "</div>"
      ],
      "text/plain": [
       "                                              review  label  total_words  \\\n",
       "0  so there is no way for me to plug it in here i...      0           21   \n",
       "1                        good case, excellent value.      1            4   \n",
       "2                             great for the jawbone.      1            4   \n",
       "3  tied to charger for conversations lasting more...      0           11   \n",
       "4                                  the mic is great.      1            4   \n",
       "5  i have to jiggle the plug to get it to line up...      0           17   \n",
       "6  if you have several dozen or several hundred c...      0           21   \n",
       "7        if you are razr owner...you must have this!      1            8   \n",
       "8                needless to say, i wasted my money.      0            7   \n",
       "9                   what a waste of money and time!.      0            7   \n",
       "\n",
       "   total_chars  \n",
       "0           82  \n",
       "1           27  \n",
       "2           22  \n",
       "3           79  \n",
       "4           17  \n",
       "5           74  \n",
       "6          111  \n",
       "7           43  \n",
       "8           35  \n",
       "9           32  "
      ]
     },
     "execution_count": 11,
     "metadata": {},
     "output_type": "execute_result"
    }
   ],
   "source": [
    "df['review'] = df['review'].str.lower() #changes text in review column to lowercase\n",
    "df.head(10) #shows first 10 rows of df"
   ]
  },
  {
   "cell_type": "code",
   "execution_count": 12,
   "id": "23ab397d-482b-48b0-9c45-25d84074b421",
   "metadata": {},
   "outputs": [
    {
     "data": {
      "text/html": [
       "<div>\n",
       "<style scoped>\n",
       "    .dataframe tbody tr th:only-of-type {\n",
       "        vertical-align: middle;\n",
       "    }\n",
       "\n",
       "    .dataframe tbody tr th {\n",
       "        vertical-align: top;\n",
       "    }\n",
       "\n",
       "    .dataframe thead th {\n",
       "        text-align: right;\n",
       "    }\n",
       "</style>\n",
       "<table border=\"1\" class=\"dataframe\">\n",
       "  <thead>\n",
       "    <tr style=\"text-align: right;\">\n",
       "      <th></th>\n",
       "      <th>review</th>\n",
       "      <th>label</th>\n",
       "      <th>total_words</th>\n",
       "      <th>total_chars</th>\n",
       "    </tr>\n",
       "  </thead>\n",
       "  <tbody>\n",
       "    <tr>\n",
       "      <th>0</th>\n",
       "      <td>so there is no way for me to plug it in here i...</td>\n",
       "      <td>0</td>\n",
       "      <td>21</td>\n",
       "      <td>82</td>\n",
       "    </tr>\n",
       "    <tr>\n",
       "      <th>1</th>\n",
       "      <td>good case  excellent value</td>\n",
       "      <td>1</td>\n",
       "      <td>4</td>\n",
       "      <td>27</td>\n",
       "    </tr>\n",
       "    <tr>\n",
       "      <th>2</th>\n",
       "      <td>great for the jawbone</td>\n",
       "      <td>1</td>\n",
       "      <td>4</td>\n",
       "      <td>22</td>\n",
       "    </tr>\n",
       "    <tr>\n",
       "      <th>3</th>\n",
       "      <td>tied to charger for conversations lasting more...</td>\n",
       "      <td>0</td>\n",
       "      <td>11</td>\n",
       "      <td>79</td>\n",
       "    </tr>\n",
       "    <tr>\n",
       "      <th>4</th>\n",
       "      <td>the mic is great</td>\n",
       "      <td>1</td>\n",
       "      <td>4</td>\n",
       "      <td>17</td>\n",
       "    </tr>\n",
       "    <tr>\n",
       "      <th>5</th>\n",
       "      <td>i have to jiggle the plug to get it to line up...</td>\n",
       "      <td>0</td>\n",
       "      <td>17</td>\n",
       "      <td>74</td>\n",
       "    </tr>\n",
       "    <tr>\n",
       "      <th>6</th>\n",
       "      <td>if you have several dozen or several hundred c...</td>\n",
       "      <td>0</td>\n",
       "      <td>21</td>\n",
       "      <td>111</td>\n",
       "    </tr>\n",
       "    <tr>\n",
       "      <th>7</th>\n",
       "      <td>if you are razr owner   you must have this</td>\n",
       "      <td>1</td>\n",
       "      <td>8</td>\n",
       "      <td>43</td>\n",
       "    </tr>\n",
       "    <tr>\n",
       "      <th>8</th>\n",
       "      <td>needless to say  i wasted my money</td>\n",
       "      <td>0</td>\n",
       "      <td>7</td>\n",
       "      <td>35</td>\n",
       "    </tr>\n",
       "    <tr>\n",
       "      <th>9</th>\n",
       "      <td>what a waste of money and time</td>\n",
       "      <td>0</td>\n",
       "      <td>7</td>\n",
       "      <td>32</td>\n",
       "    </tr>\n",
       "  </tbody>\n",
       "</table>\n",
       "</div>"
      ],
      "text/plain": [
       "                                              review  label  total_words  \\\n",
       "0  so there is no way for me to plug it in here i...      0           21   \n",
       "1                        good case  excellent value       1            4   \n",
       "2                             great for the jawbone       1            4   \n",
       "3  tied to charger for conversations lasting more...      0           11   \n",
       "4                                  the mic is great       1            4   \n",
       "5  i have to jiggle the plug to get it to line up...      0           17   \n",
       "6  if you have several dozen or several hundred c...      0           21   \n",
       "7        if you are razr owner   you must have this       1            8   \n",
       "8                needless to say  i wasted my money       0            7   \n",
       "9                   what a waste of money and time        0            7   \n",
       "\n",
       "   total_chars  \n",
       "0           82  \n",
       "1           27  \n",
       "2           22  \n",
       "3           79  \n",
       "4           17  \n",
       "5           74  \n",
       "6          111  \n",
       "7           43  \n",
       "8           35  \n",
       "9           32  "
      ]
     },
     "execution_count": 12,
     "metadata": {},
     "output_type": "execute_result"
    }
   ],
   "source": [
    "p = re.compile(r'[^\\w\\s]') #finds all characters that arents words or spaces (punctuation)\n",
    "df['review'] = [p.sub(' ', x) for x in df['review'].tolist()] #replaces punctuation with space\n",
    "df.head(10) #shows first 10 rows of df"
   ]
  },
  {
   "cell_type": "code",
   "execution_count": 13,
   "id": "d0f52f10-2d41-4f98-a0d2-26cfe4b88c32",
   "metadata": {},
   "outputs": [
    {
     "name": "stdout",
     "output_type": "stream",
     "text": [
      "['a', 'about', 'above', 'after', 'again', 'against', 'ain', 'all', 'am', 'an', 'and', 'any', 'are', 'aren', \"aren't\", 'as', 'at', 'be', 'because', 'been', 'before', 'being', 'below', 'between', 'both', 'but', 'by', 'can', 'couldn', \"couldn't\", 'd', 'did', 'didn', \"didn't\", 'do', 'does', 'doesn', \"doesn't\", 'doing', 'don', \"don't\", 'down', 'during', 'each', 'few', 'for', 'from', 'further', 'had', 'hadn', \"hadn't\", 'has', 'hasn', \"hasn't\", 'have', 'haven', \"haven't\", 'having', 'he', \"he'd\", \"he'll\", 'her', 'here', 'hers', 'herself', \"he's\", 'him', 'himself', 'his', 'how', 'i', \"i'd\", 'if', \"i'll\", \"i'm\", 'in', 'into', 'is', 'isn', \"isn't\", 'it', \"it'd\", \"it'll\", \"it's\", 'its', 'itself', \"i've\", 'just', 'll', 'm', 'ma', 'me', 'mightn', \"mightn't\", 'more', 'most', 'mustn', \"mustn't\", 'my', 'myself', 'needn', \"needn't\", 'no', 'nor', 'not', 'now', 'o', 'of', 'off', 'on', 'once', 'only', 'or', 'other', 'our', 'ours', 'ourselves', 'out', 'over', 'own', 're', 's', 'same', 'shan', \"shan't\", 'she', \"she'd\", \"she'll\", \"she's\", 'should', 'shouldn', \"shouldn't\", \"should've\", 'so', 'some', 'such', 't', 'than', 'that', \"that'll\", 'the', 'their', 'theirs', 'them', 'themselves', 'then', 'there', 'these', 'they', \"they'd\", \"they'll\", \"they're\", \"they've\", 'this', 'those', 'through', 'to', 'too', 'under', 'until', 'up', 've', 'very', 'was', 'wasn', \"wasn't\", 'we', \"we'd\", \"we'll\", \"we're\", 'were', 'weren', \"weren't\", \"we've\", 'what', 'when', 'where', 'which', 'while', 'who', 'whom', 'why', 'will', 'with', 'won', \"won't\", 'wouldn', \"wouldn't\", 'y', 'you', \"you'd\", \"you'll\", 'your', \"you're\", 'yours', 'yourself', 'yourselves', \"you've\"]\n"
     ]
    }
   ],
   "source": [
    "print(stopwords.words('english')) #shows english stopwords "
   ]
  },
  {
   "cell_type": "code",
   "execution_count": 14,
   "id": "b5fd1ee6-5c14-4b6a-b605-36515b97d972",
   "metadata": {},
   "outputs": [
    {
     "name": "stdout",
     "output_type": "stream",
     "text": [
      "[['way', 'plug', 'us', 'unless', 'go', 'converter'], ['good', 'case', 'excellent', 'value'], ['great', 'jawbone'], ['tied', 'charger', 'conversations', 'lasting', '45', 'minutes', 'major', 'problems'], ['mic', 'great'], ['jiggle', 'plug', 'get', 'line', 'right', 'get', 'decent', 'volume'], ['several', 'dozen', 'several', 'hundred', 'contacts', 'imagine', 'fun', 'sending', 'one', 'one'], ['razr', 'owner', 'must'], ['needless', 'say', 'wasted', 'money'], ['waste', 'money', 'time']]\n",
      "\n",
      " 0                         way plug us unless go converter\n",
      "1                               good case excellent value\n",
      "2                                           great jawbone\n",
      "3       tied charger conversations lasting 45 minutes ...\n",
      "4                                               mic great\n",
      "                              ...                        \n",
      "2743                    think food flavor texture lacking\n",
      "2744                              appetite instantly gone\n",
      "2745                      overall impressed would go back\n",
      "2746    whole experience underwhelming think go ninja ...\n",
      "2747    wasted enough life poured salt wound drawing t...\n",
      "Name: review, Length: 2748, dtype: object\n",
      "0: [44, 263, 96, 459, 24, 2123]\n",
      "1: [1, 73, 30, 412]\n",
      "2: [2, 961]\n",
      "3: [2124, 142, 962, 963, 1355, 68, 1356, 198]\n",
      "4: [748, 2]\n"
     ]
    }
   ],
   "source": [
    "stop_words = set(stopwords.words('english')) #loads english stopwords \n",
    "data_set = [] #makes list for tokenized reviews  \n",
    "for sentence in df['review']:\n",
    "    data_set.append([word for word in word_tokenize(sentence) if word not in stop_words]) #tokenizes reveiws/removes stopwords\n",
    "df['review'] = [' '.join(words) for words in data_set] #replaces review column with tokenized reviews \n",
    "print(data_set[:10]) #shows first 10 rows of tokenized reviews \n",
    "vocab_size = 5000 #sets vocab limit for tokenizer \n",
    "x = df['review'] #makes x the now tokenized reviews \n",
    "print('''\\n''',x) #prints tokenized reviews \n",
    "tokenizer = Tokenizer(num_words=vocab_size) #starts keras tokenizer with vocab limit\n",
    "tokenizer.fit_on_texts(x) #creates word index for reviews \n",
    "x = tokenizer.texts_to_sequences(x) #converts reviews to int sequences using index\n",
    "for i, seq in enumerate(x[:5]):\n",
    "    print(f\"{i}: {seq[:10]}\") #prints first 10 rows of index sequences "
   ]
  },
  {
   "cell_type": "code",
   "execution_count": 15,
   "id": "37739574-8d0a-4dcd-8a24-2597bd166842",
   "metadata": {},
   "outputs": [
    {
     "name": "stdout",
     "output_type": "stream",
     "text": [
      "(2748, 4)\n",
      "Index(['review', 'label', 'total_words', 'total_chars'], dtype='object')\n"
     ]
    },
    {
     "data": {
      "text/html": [
       "<div>\n",
       "<style scoped>\n",
       "    .dataframe tbody tr th:only-of-type {\n",
       "        vertical-align: middle;\n",
       "    }\n",
       "\n",
       "    .dataframe tbody tr th {\n",
       "        vertical-align: top;\n",
       "    }\n",
       "\n",
       "    .dataframe thead th {\n",
       "        text-align: right;\n",
       "    }\n",
       "</style>\n",
       "<table border=\"1\" class=\"dataframe\">\n",
       "  <thead>\n",
       "    <tr style=\"text-align: right;\">\n",
       "      <th></th>\n",
       "      <th>review</th>\n",
       "      <th>label</th>\n",
       "      <th>total_words</th>\n",
       "      <th>total_chars</th>\n",
       "    </tr>\n",
       "  </thead>\n",
       "  <tbody>\n",
       "    <tr>\n",
       "      <th>0</th>\n",
       "      <td>way plug us unless go converter</td>\n",
       "      <td>0</td>\n",
       "      <td>21</td>\n",
       "      <td>82</td>\n",
       "    </tr>\n",
       "    <tr>\n",
       "      <th>1</th>\n",
       "      <td>good case excellent value</td>\n",
       "      <td>1</td>\n",
       "      <td>4</td>\n",
       "      <td>27</td>\n",
       "    </tr>\n",
       "    <tr>\n",
       "      <th>2</th>\n",
       "      <td>great jawbone</td>\n",
       "      <td>1</td>\n",
       "      <td>4</td>\n",
       "      <td>22</td>\n",
       "    </tr>\n",
       "    <tr>\n",
       "      <th>3</th>\n",
       "      <td>tied charger conversations lasting 45 minutes ...</td>\n",
       "      <td>0</td>\n",
       "      <td>11</td>\n",
       "      <td>79</td>\n",
       "    </tr>\n",
       "    <tr>\n",
       "      <th>4</th>\n",
       "      <td>mic great</td>\n",
       "      <td>1</td>\n",
       "      <td>4</td>\n",
       "      <td>17</td>\n",
       "    </tr>\n",
       "    <tr>\n",
       "      <th>5</th>\n",
       "      <td>jiggle plug get line right get decent volume</td>\n",
       "      <td>0</td>\n",
       "      <td>17</td>\n",
       "      <td>74</td>\n",
       "    </tr>\n",
       "    <tr>\n",
       "      <th>6</th>\n",
       "      <td>several dozen several hundred contacts imagine...</td>\n",
       "      <td>0</td>\n",
       "      <td>21</td>\n",
       "      <td>111</td>\n",
       "    </tr>\n",
       "    <tr>\n",
       "      <th>7</th>\n",
       "      <td>razr owner must</td>\n",
       "      <td>1</td>\n",
       "      <td>8</td>\n",
       "      <td>43</td>\n",
       "    </tr>\n",
       "    <tr>\n",
       "      <th>8</th>\n",
       "      <td>needless say wasted money</td>\n",
       "      <td>0</td>\n",
       "      <td>7</td>\n",
       "      <td>35</td>\n",
       "    </tr>\n",
       "    <tr>\n",
       "      <th>9</th>\n",
       "      <td>waste money time</td>\n",
       "      <td>0</td>\n",
       "      <td>7</td>\n",
       "      <td>32</td>\n",
       "    </tr>\n",
       "  </tbody>\n",
       "</table>\n",
       "</div>"
      ],
      "text/plain": [
       "                                              review  label  total_words  \\\n",
       "0                    way plug us unless go converter      0           21   \n",
       "1                          good case excellent value      1            4   \n",
       "2                                      great jawbone      1            4   \n",
       "3  tied charger conversations lasting 45 minutes ...      0           11   \n",
       "4                                          mic great      1            4   \n",
       "5       jiggle plug get line right get decent volume      0           17   \n",
       "6  several dozen several hundred contacts imagine...      0           21   \n",
       "7                                    razr owner must      1            8   \n",
       "8                          needless say wasted money      0            7   \n",
       "9                                   waste money time      0            7   \n",
       "\n",
       "   total_chars  \n",
       "0           82  \n",
       "1           27  \n",
       "2           22  \n",
       "3           79  \n",
       "4           17  \n",
       "5           74  \n",
       "6          111  \n",
       "7           43  \n",
       "8           35  \n",
       "9           32  "
      ]
     },
     "execution_count": 15,
     "metadata": {},
     "output_type": "execute_result"
    }
   ],
   "source": [
    "print(df.shape) #shows number of rows and columns of df\n",
    "print(df.columns) #shows columns in df\n",
    "df.head(10) #shows first 10 rows of df"
   ]
  },
  {
   "cell_type": "code",
   "execution_count": 16,
   "id": "be3a0e19-9b17-4064-aba4-f8c26b1896fb",
   "metadata": {},
   "outputs": [],
   "source": [
    "lemmatizer = WordNetLemmatizer() #starts NLTK WordNet lemmatizer\n",
    "def lem(token_text): #lemmatizes each word in the tokenized text\n",
    "    text = [lemmatizer.lemmatize(word) for word in token_text]\n",
    "    return text\n",
    "lemm_data = [lem(sentence) for sentence in data_set] #lemmatizes each tokenized row"
   ]
  },
  {
   "cell_type": "code",
   "execution_count": 17,
   "id": "44485b36-9fa3-4706-ac84-9e34e775b664",
   "metadata": {},
   "outputs": [
    {
     "data": {
      "text/html": [
       "<div>\n",
       "<style scoped>\n",
       "    .dataframe tbody tr th:only-of-type {\n",
       "        vertical-align: middle;\n",
       "    }\n",
       "\n",
       "    .dataframe tbody tr th {\n",
       "        vertical-align: top;\n",
       "    }\n",
       "\n",
       "    .dataframe thead th {\n",
       "        text-align: right;\n",
       "    }\n",
       "</style>\n",
       "<table border=\"1\" class=\"dataframe\">\n",
       "  <thead>\n",
       "    <tr style=\"text-align: right;\">\n",
       "      <th></th>\n",
       "      <th>review</th>\n",
       "      <th>label</th>\n",
       "      <th>total_words</th>\n",
       "      <th>total_chars</th>\n",
       "      <th>Lemmed_words</th>\n",
       "      <th>Lemmed_chars</th>\n",
       "    </tr>\n",
       "  </thead>\n",
       "  <tbody>\n",
       "    <tr>\n",
       "      <th>0</th>\n",
       "      <td>way plug u unless go converter</td>\n",
       "      <td>0</td>\n",
       "      <td>21</td>\n",
       "      <td>82</td>\n",
       "      <td>6</td>\n",
       "      <td>30</td>\n",
       "    </tr>\n",
       "    <tr>\n",
       "      <th>1</th>\n",
       "      <td>good case excellent value</td>\n",
       "      <td>1</td>\n",
       "      <td>4</td>\n",
       "      <td>27</td>\n",
       "      <td>4</td>\n",
       "      <td>25</td>\n",
       "    </tr>\n",
       "    <tr>\n",
       "      <th>2</th>\n",
       "      <td>great jawbone</td>\n",
       "      <td>1</td>\n",
       "      <td>4</td>\n",
       "      <td>22</td>\n",
       "      <td>2</td>\n",
       "      <td>13</td>\n",
       "    </tr>\n",
       "    <tr>\n",
       "      <th>3</th>\n",
       "      <td>tied charger conversation lasting 45 minute ma...</td>\n",
       "      <td>0</td>\n",
       "      <td>11</td>\n",
       "      <td>79</td>\n",
       "      <td>8</td>\n",
       "      <td>57</td>\n",
       "    </tr>\n",
       "    <tr>\n",
       "      <th>4</th>\n",
       "      <td>mic great</td>\n",
       "      <td>1</td>\n",
       "      <td>4</td>\n",
       "      <td>17</td>\n",
       "      <td>2</td>\n",
       "      <td>9</td>\n",
       "    </tr>\n",
       "    <tr>\n",
       "      <th>5</th>\n",
       "      <td>jiggle plug get line right get decent volume</td>\n",
       "      <td>0</td>\n",
       "      <td>17</td>\n",
       "      <td>74</td>\n",
       "      <td>8</td>\n",
       "      <td>44</td>\n",
       "    </tr>\n",
       "    <tr>\n",
       "      <th>6</th>\n",
       "      <td>several dozen several hundred contact imagine ...</td>\n",
       "      <td>0</td>\n",
       "      <td>21</td>\n",
       "      <td>111</td>\n",
       "      <td>10</td>\n",
       "      <td>65</td>\n",
       "    </tr>\n",
       "    <tr>\n",
       "      <th>7</th>\n",
       "      <td>razr owner must</td>\n",
       "      <td>1</td>\n",
       "      <td>8</td>\n",
       "      <td>43</td>\n",
       "      <td>3</td>\n",
       "      <td>15</td>\n",
       "    </tr>\n",
       "    <tr>\n",
       "      <th>8</th>\n",
       "      <td>needless say wasted money</td>\n",
       "      <td>0</td>\n",
       "      <td>7</td>\n",
       "      <td>35</td>\n",
       "      <td>4</td>\n",
       "      <td>25</td>\n",
       "    </tr>\n",
       "    <tr>\n",
       "      <th>9</th>\n",
       "      <td>waste money time</td>\n",
       "      <td>0</td>\n",
       "      <td>7</td>\n",
       "      <td>32</td>\n",
       "      <td>3</td>\n",
       "      <td>16</td>\n",
       "    </tr>\n",
       "  </tbody>\n",
       "</table>\n",
       "</div>"
      ],
      "text/plain": [
       "                                              review  label  total_words  \\\n",
       "0                     way plug u unless go converter      0           21   \n",
       "1                          good case excellent value      1            4   \n",
       "2                                      great jawbone      1            4   \n",
       "3  tied charger conversation lasting 45 minute ma...      0           11   \n",
       "4                                          mic great      1            4   \n",
       "5       jiggle plug get line right get decent volume      0           17   \n",
       "6  several dozen several hundred contact imagine ...      0           21   \n",
       "7                                    razr owner must      1            8   \n",
       "8                          needless say wasted money      0            7   \n",
       "9                                   waste money time      0            7   \n",
       "\n",
       "   total_chars  Lemmed_words  Lemmed_chars  \n",
       "0           82             6            30  \n",
       "1           27             4            25  \n",
       "2           22             2            13  \n",
       "3           79             8            57  \n",
       "4           17             2             9  \n",
       "5           74             8            44  \n",
       "6          111            10            65  \n",
       "7           43             3            15  \n",
       "8           35             4            25  \n",
       "9           32             3            16  "
      ]
     },
     "execution_count": 17,
     "metadata": {},
     "output_type": "execute_result"
    }
   ],
   "source": [
    "df['review'] = [' '.join(words) for words in lemm_data] #remakes sentences in reviews from lemmatized word list\n",
    "df['Lemmed_words'] = [len(x.split()) for x in df['review'].tolist()] #adds column with number of lemmatized words in each review\n",
    "df['Lemmed_chars'] = df['review'].apply(len) #adds column with number of lemmatized characters in each review\n",
    "df.head(10) #shows first 10 rows of df post lemmatization "
   ]
  },
  {
   "cell_type": "code",
   "execution_count": 18,
   "id": "0f590122-8f69-4434-b3b5-a8b4b3609254",
   "metadata": {},
   "outputs": [
    {
     "name": "stdout",
     "output_type": "stream",
     "text": [
      "Vocab size: 5043\n"
     ]
    }
   ],
   "source": [
    "print(\"Vocab size:\", len(tokenizer.word_index)) #shows number of words tokenizer has identified from the dataset"
   ]
  },
  {
   "cell_type": "code",
   "execution_count": 19,
   "id": "10f6b90b-5f88-4960-bab3-5985cfe81bb7",
   "metadata": {},
   "outputs": [
    {
     "name": "stdout",
     "output_type": "stream",
     "text": [
      "Summary Statistics:\n",
      "count    2748.000000\n",
      "mean        6.741266\n",
      "std        20.130599\n",
      "min         0.000000\n",
      "25%         3.000000\n",
      "50%         5.000000\n",
      "75%         8.000000\n",
      "95%        14.000000\n",
      "max       781.000000\n",
      "dtype: float64\n",
      "\n",
      "Median: 5.0\n"
     ]
    }
   ],
   "source": [
    "lengths = [len(seq) for seq in x] #finds number of tokens in each review\n",
    "lengths_series = pd.Series(lengths) #converts lengths into panda series for summany stats\n",
    "print(\"Summary Statistics:\")\n",
    "print(lengths_series.describe(percentiles=[0.25, 0.5, 0.75, 0.95])) #Shows summary stats of review lengths \n",
    "print(\"\\nMedian:\", lengths_series.median())  #Shows median value"
   ]
  },
  {
   "cell_type": "code",
   "execution_count": 20,
   "id": "26c8e1bd-142f-4f5d-8939-6844f3f6608f",
   "metadata": {},
   "outputs": [
    {
     "name": "stdout",
     "output_type": "stream",
     "text": [
      "(2748, 15)\n"
     ]
    }
   ],
   "source": [
    "max_length = 15 #sets max length for padding at 15 words\n",
    "x = pad_sequences(x, maxlen=max_length, padding='post', truncating='post') #pads row sequences to 15 words with 0s occupying empty space if under 15 words and removing words at end if over 15 words\n",
    "print(x.shape) #shows the rows and columns of the padded array"
   ]
  },
  {
   "cell_type": "code",
   "execution_count": 21,
   "id": "ac557fdf-61c0-42fa-a88e-3adc0a0a431b",
   "metadata": {},
   "outputs": [
    {
     "name": "stdout",
     "output_type": "stream",
     "text": [
      "{'good': 1, 'great': 2, 'movie': 3, 'phone': 4, 'film': 5, 'one': 6, '0': 7, '1': 8, 'food': 9, 'like': 10, 'place': 11, 'time': 12, 'service': 13, 'bad': 14, 'really': 15, 'well': 16, 'would': 17, 'best': 18, 'even': 19, 'ever': 20, 'also': 21, 'back': 22, 'quality': 23, 'go': 24, 'love': 25, 'made': 26, 'product': 27, 'work': 28, 'get': 29, 'excellent': 30, 'works': 31, 'could': 32, 'nice': 33, 'better': 34, 'never': 35, 'sound': 36, 'recommend': 37, 'much': 38, 'use': 39, 'headset': 40, 'think': 41, 'first': 42, 'battery': 43, 'way': 44, 'pretty': 45, 'see': 46, 'acting': 47, 'make': 48, 'got': 49, 'worst': 50, 'still': 51, '2': 52, '10': 53, 'everything': 54, 'say': 55, 'enough': 56, 'two': 57, 'ear': 58, 'little': 59, 'disappointed': 60, 'every': 61, 'characters': 62, 'right': 63, 'going': 64, 'thing': 65, 'price': 66, 'amazing': 67, 'minutes': 68, 'waste': 69, 'people': 70, 'real': 71, 'definitely': 72, 'case': 73, 'terrible': 74, 'money': 75, 'look': 76, 'new': 77, 'know': 78, 'experience': 79, 'came': 80, 'movies': 81, 'friendly': 82, 'many': 83, 'plot': 84, 'story': 85, 'far': 86, 'life': 87, 'poor': 88, 'piece': 89, 'used': 90, 'worth': 91, 'long': 92, 'years': 93, 'nothing': 94, 'seen': 95, 'us': 96, 'want': 97, 'lot': 98, 'quite': 99, 'wonderful': 100}\n"
     ]
    }
   ],
   "source": [
    "print(dict(list(tokenizer.word_index.items())[:100])) #Shows the first 100 word-index pairings in the index dictionary "
   ]
  },
  {
   "cell_type": "code",
   "execution_count": 22,
   "id": "849f50f8-1d92-45eb-af7b-471d811f0193",
   "metadata": {},
   "outputs": [
    {
     "name": "stdout",
     "output_type": "stream",
     "text": [
      "[  44  263   96  459   24 2123    0    0    0    0    0    0    0    0\n",
      "    0] \n",
      " [  1  73  30 412   0   0   0   0   0   0   0   0   0   0   0]\n"
     ]
    }
   ],
   "source": [
    "print(x[0], '''\\n''', x[1])  #Shows first 2 sequences"
   ]
  },
  {
   "cell_type": "code",
   "execution_count": 23,
   "id": "30b4c2e2-58a5-4842-8824-6522dbe32aa3",
   "metadata": {},
   "outputs": [
    {
     "data": {
      "text/html": [
       "<div>\n",
       "<style scoped>\n",
       "    .dataframe tbody tr th:only-of-type {\n",
       "        vertical-align: middle;\n",
       "    }\n",
       "\n",
       "    .dataframe tbody tr th {\n",
       "        vertical-align: top;\n",
       "    }\n",
       "\n",
       "    .dataframe thead th {\n",
       "        text-align: right;\n",
       "    }\n",
       "</style>\n",
       "<table border=\"1\" class=\"dataframe\">\n",
       "  <thead>\n",
       "    <tr style=\"text-align: right;\">\n",
       "      <th></th>\n",
       "      <th>review</th>\n",
       "      <th>label</th>\n",
       "      <th>total_words</th>\n",
       "      <th>total_chars</th>\n",
       "      <th>Lemmed_words</th>\n",
       "      <th>Lemmed_chars</th>\n",
       "    </tr>\n",
       "  </thead>\n",
       "  <tbody>\n",
       "    <tr>\n",
       "      <th>0</th>\n",
       "      <td>way plug u unless go converter</td>\n",
       "      <td>0</td>\n",
       "      <td>21</td>\n",
       "      <td>82</td>\n",
       "      <td>6</td>\n",
       "      <td>30</td>\n",
       "    </tr>\n",
       "    <tr>\n",
       "      <th>1</th>\n",
       "      <td>good case excellent value</td>\n",
       "      <td>1</td>\n",
       "      <td>4</td>\n",
       "      <td>27</td>\n",
       "      <td>4</td>\n",
       "      <td>25</td>\n",
       "    </tr>\n",
       "  </tbody>\n",
       "</table>\n",
       "</div>"
      ],
      "text/plain": [
       "                           review  label  total_words  total_chars  \\\n",
       "0  way plug u unless go converter      0           21           82   \n",
       "1       good case excellent value      1            4           27   \n",
       "\n",
       "   Lemmed_words  Lemmed_chars  \n",
       "0             6            30  \n",
       "1             4            25  "
      ]
     },
     "execution_count": 23,
     "metadata": {},
     "output_type": "execute_result"
    }
   ],
   "source": [
    "df.head(2) #shows the first 2 rows "
   ]
  },
  {
   "cell_type": "code",
   "execution_count": 24,
   "id": "4ced24ee-2842-4f59-a1b7-885d7ca7aec0",
   "metadata": {},
   "outputs": [],
   "source": [
    "y = df['label'].values #makes the label column the target variable\n",
    "train_x, test_x, train_y, test_y = train_test_split(x, y, test_size=0.2, random_state=16) #splits dataset into 80% training and 20% testing"
   ]
  },
  {
   "cell_type": "code",
   "execution_count": 25,
   "id": "bc97088b-6517-4966-a712-063bd0b8f27b",
   "metadata": {},
   "outputs": [],
   "source": [
    "train_df = pd.DataFrame({'review': train_x.tolist(), 'label': train_y.tolist()}) #makes dataframe with train set with review and label rows \n",
    "test_df = pd.DataFrame({'review': test_x.tolist(), 'label': test_y.tolist()}) #makes dataframe with test set with review and label rows\n",
    "train_df.to_csv(\"train_set.csv\", index=False) #saves training set to .csv\n",
    "test_df.to_csv(\"test_set.csv\", index=False) #saves testing set to .csv"
   ]
  },
  {
   "cell_type": "code",
   "execution_count": 26,
   "id": "867eb809-792a-482b-b368-3628d4488e3c",
   "metadata": {},
   "outputs": [
    {
     "name": "stdout",
     "output_type": "stream",
     "text": [
      "Epoch 1/20\n",
      "\u001b[1m55/55\u001b[0m \u001b[32m━━━━━━━━━━━━━━━━━━━━\u001b[0m\u001b[37m\u001b[0m \u001b[1m3s\u001b[0m 27ms/step - accuracy: 0.5456 - loss: 0.6885 - val_accuracy: 0.7455 - val_loss: 0.5117\n",
      "Epoch 2/20\n",
      "\u001b[1m55/55\u001b[0m \u001b[32m━━━━━━━━━━━━━━━━━━━━\u001b[0m\u001b[37m\u001b[0m \u001b[1m2s\u001b[0m 28ms/step - accuracy: 0.8658 - loss: 0.3481 - val_accuracy: 0.8068 - val_loss: 0.4352\n",
      "Epoch 3/20\n",
      "\u001b[1m55/55\u001b[0m \u001b[32m━━━━━━━━━━━━━━━━━━━━\u001b[0m\u001b[37m\u001b[0m \u001b[1m2s\u001b[0m 35ms/step - accuracy: 0.9576 - loss: 0.1411 - val_accuracy: 0.7727 - val_loss: 0.7119\n",
      "Epoch 4/20\n",
      "\u001b[1m55/55\u001b[0m \u001b[32m━━━━━━━━━━━━━━━━━━━━\u001b[0m\u001b[37m\u001b[0m \u001b[1m2s\u001b[0m 35ms/step - accuracy: 0.9708 - loss: 0.0813 - val_accuracy: 0.8227 - val_loss: 0.4923\n",
      "Epoch 5/20\n",
      "\u001b[1m55/55\u001b[0m \u001b[32m━━━━━━━━━━━━━━━━━━━━\u001b[0m\u001b[37m\u001b[0m \u001b[1m2s\u001b[0m 35ms/step - accuracy: 0.9814 - loss: 0.0482 - val_accuracy: 0.8000 - val_loss: 0.7660\n"
     ]
    }
   ],
   "source": [
    "model = Sequential() #makes sequential nn model\n",
    "model.add(Embedding(input_dim=5000, output_dim=64, input_length=max_length)) #adds embedding layer with 5000 input dim, 64 dimensional dense vector, and input length at padded length \n",
    "model.add(Bidirectional(LSTM(256, return_sequences=False))) #adds birectional LSTM layer with 256 units\n",
    "model.add(Dropout(0.3)) #adds dropout layer at 0.3 (30% set to negative (0))\n",
    "model.add(Dense(256, activation='relu')) #adds dense layer w/ 256 neurons and relu activation (non-linear) \n",
    "model.add(Dense(1, activation='sigmoid')) #adds dense output layer with sigmoid activation for binary  \n",
    "early_stop = EarlyStopping(monitor='val_loss', patience=3, restore_best_weights=True) #adds early stop if no validation improvement for 3 epochs (patience 3), restoring best weight \n",
    "model.compile(optimizer='adam', loss='binary_crossentropy', metrics=['accuracy']) #makes model to use adam optimizer, binary_crossentropy loss, and an accuracy metric  \n",
    "history = model.fit(train_x, train_y, epochs=20, validation_split=0.2, verbose=1, callbacks=[early_stop]) #trains model up to 20 epochs and 20% of training data witheld as validation "
   ]
  },
  {
   "cell_type": "code",
   "execution_count": 27,
   "id": "357c3f24-a89e-45e6-b901-182201e37f43",
   "metadata": {},
   "outputs": [
    {
     "data": {
      "text/html": [
       "<pre style=\"white-space:pre;overflow-x:auto;line-height:normal;font-family:Menlo,'DejaVu Sans Mono',consolas,'Courier New',monospace\"><span style=\"font-weight: bold\">Model: \"sequential\"</span>\n",
       "</pre>\n"
      ],
      "text/plain": [
       "\u001b[1mModel: \"sequential\"\u001b[0m\n"
      ]
     },
     "metadata": {},
     "output_type": "display_data"
    },
    {
     "data": {
      "text/html": [
       "<pre style=\"white-space:pre;overflow-x:auto;line-height:normal;font-family:Menlo,'DejaVu Sans Mono',consolas,'Courier New',monospace\">┏━━━━━━━━━━━━━━━━━━━━━━━━━━━━━━━━━┳━━━━━━━━━━━━━━━━━━━━━━━━┳━━━━━━━━━━━━━━━┓\n",
       "┃<span style=\"font-weight: bold\"> Layer (type)                    </span>┃<span style=\"font-weight: bold\"> Output Shape           </span>┃<span style=\"font-weight: bold\">       Param # </span>┃\n",
       "┡━━━━━━━━━━━━━━━━━━━━━━━━━━━━━━━━━╇━━━━━━━━━━━━━━━━━━━━━━━━╇━━━━━━━━━━━━━━━┩\n",
       "│ embedding (<span style=\"color: #0087ff; text-decoration-color: #0087ff\">Embedding</span>)           │ (<span style=\"color: #00d7ff; text-decoration-color: #00d7ff\">None</span>, <span style=\"color: #00af00; text-decoration-color: #00af00\">15</span>, <span style=\"color: #00af00; text-decoration-color: #00af00\">64</span>)         │       <span style=\"color: #00af00; text-decoration-color: #00af00\">320,000</span> │\n",
       "├─────────────────────────────────┼────────────────────────┼───────────────┤\n",
       "│ bidirectional (<span style=\"color: #0087ff; text-decoration-color: #0087ff\">Bidirectional</span>)   │ (<span style=\"color: #00d7ff; text-decoration-color: #00d7ff\">None</span>, <span style=\"color: #00af00; text-decoration-color: #00af00\">512</span>)            │       <span style=\"color: #00af00; text-decoration-color: #00af00\">657,408</span> │\n",
       "├─────────────────────────────────┼────────────────────────┼───────────────┤\n",
       "│ dropout (<span style=\"color: #0087ff; text-decoration-color: #0087ff\">Dropout</span>)               │ (<span style=\"color: #00d7ff; text-decoration-color: #00d7ff\">None</span>, <span style=\"color: #00af00; text-decoration-color: #00af00\">512</span>)            │             <span style=\"color: #00af00; text-decoration-color: #00af00\">0</span> │\n",
       "├─────────────────────────────────┼────────────────────────┼───────────────┤\n",
       "│ dense (<span style=\"color: #0087ff; text-decoration-color: #0087ff\">Dense</span>)                   │ (<span style=\"color: #00d7ff; text-decoration-color: #00d7ff\">None</span>, <span style=\"color: #00af00; text-decoration-color: #00af00\">256</span>)            │       <span style=\"color: #00af00; text-decoration-color: #00af00\">131,328</span> │\n",
       "├─────────────────────────────────┼────────────────────────┼───────────────┤\n",
       "│ dense_1 (<span style=\"color: #0087ff; text-decoration-color: #0087ff\">Dense</span>)                 │ (<span style=\"color: #00d7ff; text-decoration-color: #00d7ff\">None</span>, <span style=\"color: #00af00; text-decoration-color: #00af00\">1</span>)              │           <span style=\"color: #00af00; text-decoration-color: #00af00\">257</span> │\n",
       "└─────────────────────────────────┴────────────────────────┴───────────────┘\n",
       "</pre>\n"
      ],
      "text/plain": [
       "┏━━━━━━━━━━━━━━━━━━━━━━━━━━━━━━━━━┳━━━━━━━━━━━━━━━━━━━━━━━━┳━━━━━━━━━━━━━━━┓\n",
       "┃\u001b[1m \u001b[0m\u001b[1mLayer (type)                   \u001b[0m\u001b[1m \u001b[0m┃\u001b[1m \u001b[0m\u001b[1mOutput Shape          \u001b[0m\u001b[1m \u001b[0m┃\u001b[1m \u001b[0m\u001b[1m      Param #\u001b[0m\u001b[1m \u001b[0m┃\n",
       "┡━━━━━━━━━━━━━━━━━━━━━━━━━━━━━━━━━╇━━━━━━━━━━━━━━━━━━━━━━━━╇━━━━━━━━━━━━━━━┩\n",
       "│ embedding (\u001b[38;5;33mEmbedding\u001b[0m)           │ (\u001b[38;5;45mNone\u001b[0m, \u001b[38;5;34m15\u001b[0m, \u001b[38;5;34m64\u001b[0m)         │       \u001b[38;5;34m320,000\u001b[0m │\n",
       "├─────────────────────────────────┼────────────────────────┼───────────────┤\n",
       "│ bidirectional (\u001b[38;5;33mBidirectional\u001b[0m)   │ (\u001b[38;5;45mNone\u001b[0m, \u001b[38;5;34m512\u001b[0m)            │       \u001b[38;5;34m657,408\u001b[0m │\n",
       "├─────────────────────────────────┼────────────────────────┼───────────────┤\n",
       "│ dropout (\u001b[38;5;33mDropout\u001b[0m)               │ (\u001b[38;5;45mNone\u001b[0m, \u001b[38;5;34m512\u001b[0m)            │             \u001b[38;5;34m0\u001b[0m │\n",
       "├─────────────────────────────────┼────────────────────────┼───────────────┤\n",
       "│ dense (\u001b[38;5;33mDense\u001b[0m)                   │ (\u001b[38;5;45mNone\u001b[0m, \u001b[38;5;34m256\u001b[0m)            │       \u001b[38;5;34m131,328\u001b[0m │\n",
       "├─────────────────────────────────┼────────────────────────┼───────────────┤\n",
       "│ dense_1 (\u001b[38;5;33mDense\u001b[0m)                 │ (\u001b[38;5;45mNone\u001b[0m, \u001b[38;5;34m1\u001b[0m)              │           \u001b[38;5;34m257\u001b[0m │\n",
       "└─────────────────────────────────┴────────────────────────┴───────────────┘\n"
      ]
     },
     "metadata": {},
     "output_type": "display_data"
    },
    {
     "data": {
      "text/html": [
       "<pre style=\"white-space:pre;overflow-x:auto;line-height:normal;font-family:Menlo,'DejaVu Sans Mono',consolas,'Courier New',monospace\"><span style=\"font-weight: bold\"> Total params: </span><span style=\"color: #00af00; text-decoration-color: #00af00\">3,326,981</span> (12.69 MB)\n",
       "</pre>\n"
      ],
      "text/plain": [
       "\u001b[1m Total params: \u001b[0m\u001b[38;5;34m3,326,981\u001b[0m (12.69 MB)\n"
      ]
     },
     "metadata": {},
     "output_type": "display_data"
    },
    {
     "data": {
      "text/html": [
       "<pre style=\"white-space:pre;overflow-x:auto;line-height:normal;font-family:Menlo,'DejaVu Sans Mono',consolas,'Courier New',monospace\"><span style=\"font-weight: bold\"> Trainable params: </span><span style=\"color: #00af00; text-decoration-color: #00af00\">1,108,993</span> (4.23 MB)\n",
       "</pre>\n"
      ],
      "text/plain": [
       "\u001b[1m Trainable params: \u001b[0m\u001b[38;5;34m1,108,993\u001b[0m (4.23 MB)\n"
      ]
     },
     "metadata": {},
     "output_type": "display_data"
    },
    {
     "data": {
      "text/html": [
       "<pre style=\"white-space:pre;overflow-x:auto;line-height:normal;font-family:Menlo,'DejaVu Sans Mono',consolas,'Courier New',monospace\"><span style=\"font-weight: bold\"> Non-trainable params: </span><span style=\"color: #00af00; text-decoration-color: #00af00\">0</span> (0.00 B)\n",
       "</pre>\n"
      ],
      "text/plain": [
       "\u001b[1m Non-trainable params: \u001b[0m\u001b[38;5;34m0\u001b[0m (0.00 B)\n"
      ]
     },
     "metadata": {},
     "output_type": "display_data"
    },
    {
     "data": {
      "text/html": [
       "<pre style=\"white-space:pre;overflow-x:auto;line-height:normal;font-family:Menlo,'DejaVu Sans Mono',consolas,'Courier New',monospace\"><span style=\"font-weight: bold\"> Optimizer params: </span><span style=\"color: #00af00; text-decoration-color: #00af00\">2,217,988</span> (8.46 MB)\n",
       "</pre>\n"
      ],
      "text/plain": [
       "\u001b[1m Optimizer params: \u001b[0m\u001b[38;5;34m2,217,988\u001b[0m (8.46 MB)\n"
      ]
     },
     "metadata": {},
     "output_type": "display_data"
    }
   ],
   "source": [
    "model.summary() #shows summary of model with layer type, output shape, and number of parameters"
   ]
  },
  {
   "cell_type": "code",
   "execution_count": 28,
   "id": "90b1f679-39a2-455e-b719-f3a45eeaa016",
   "metadata": {},
   "outputs": [
    {
     "name": "stdout",
     "output_type": "stream",
     "text": [
      "Test Loss: 0.4818556308746338\n",
      "Test accuracy: 0.7672727108001709\n"
     ]
    }
   ],
   "source": [
    "res = model.evaluate(test_x, test_y, verbose=0) #evaluates the model using the testing dataset \n",
    "print('Test Loss:', res[0]) #shows test data loss during the evaluation \n",
    "print('Test accuracy:', res[1]) #shows test data accuracy during the evaluation "
   ]
  },
  {
   "cell_type": "code",
   "execution_count": 29,
   "id": "d63f3d47-1672-4fb1-a33f-75bcf752da4f",
   "metadata": {},
   "outputs": [
    {
     "data": {
      "image/png": "[encoded data removed]",
      "text/plain": [
       "<Figure size 1200x500 with 2 Axes>"
      ]
     },
     "metadata": {},
     "output_type": "display_data"
    }
   ],
   "source": [
    "plt.figure(figsize=(12, 5)) #creates graphs for model accuracy and model loss\n",
    "\n",
    "plt.subplot(1, 2, 1) #outputs model accuracy graph to the left\n",
    "plt.plot(history.history['accuracy'], label='train') #plots accuracy and labels it train\n",
    "plt.plot(history.history['val_accuracy'], label='validation') #plots val_accuracy and labels it validation\n",
    "plt.title('Model Accuracy') #titles model accuracy graph\n",
    "plt.xlabel('Epoch') #titles x-axis\n",
    "plt.ylabel('Accuracy') #titles y-axis\n",
    "plt.legend() #adds legend\n",
    "\n",
    "plt.subplot(1, 2, 2) #outputs model loss graph to the right\n",
    "plt.plot(history.history['loss'], label='train') #plots loss and labels it train\n",
    "plt.plot(history.history['val_loss'], label='validation') #plots validation and labels it validation \n",
    "plt.title('Model Loss') #titles model loss graph\n",
    "plt.xlabel('Epoch') #titles x-axis\n",
    "plt.ylabel('Loss') #titles y-axis\n",
    "plt.legend() #adds legend \n",
    "\n",
    "plt.show() #shows the graphs "
   ]
  },
  {
   "cell_type": "code",
   "execution_count": 30,
   "id": "07bbc0b3-8ea5-4460-9bf4-e53282be0387",
   "metadata": {},
   "outputs": [],
   "source": [
    "model.save('sentiment_model.keras') #saves the model"
   ]
  }
 ],
 "metadata": {
  "kernelspec": {
   "display_name": "Python 3.10 (TensorFlow)",
   "language": "python",
   "name": "tf310"
  },
  "language_info": {
   "codemirror_mode": {
    "name": "ipython",
    "version": 3
   },
   "file_extension": ".py",
   "mimetype": "text/x-python",
   "name": "python",
   "nbconvert_exporter": "python",
   "pygments_lexer": "ipython3",
   "version": "3.10.16"
  }
 },
 "nbformat": 4,
 "nbformat_minor": 5
}
